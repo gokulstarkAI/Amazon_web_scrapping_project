{
 "cells": [
  {
   "cell_type": "code",
   "execution_count": 65,
   "id": "3c6aed9a-3da9-4617-86b8-b2d06bef5c25",
   "metadata": {},
   "outputs": [],
   "source": [
    "# import lib's\n",
    "\n",
    "from bs4 import BeautifulSoup\n",
    "import requests\n",
    "import time\n",
    "import datetime\n",
    "import smtplib\n",
    "import csv\n",
    "import pandas as pd"
   ]
  },
  {
   "cell_type": "code",
   "execution_count": 56,
   "id": "aff8d249-03b0-4719-b000-96b365d91a8e",
   "metadata": {},
   "outputs": [
    {
     "name": "stdout",
     "output_type": "stream",
     "text": [
      "\n",
      "            Think Python: How to Think Like a Computer Scientist\n",
      "           \n",
      "\n",
      "                   ₹525.00\n",
      "                  \n",
      "\n",
      "\n",
      "                 Allen Downey\n",
      "                \n",
      "\n",
      "\n",
      "             632 ratings\n",
      "            \n"
     ]
    }
   ],
   "source": [
    "# connect to website\n",
    "URL = 'https://www.amazon.in/Think-Python-Like-Computer-Scientist/dp/9352134753/ref=sr_1_13?crid=1EPS6VDTD1XS9&keywords=python+book&qid=1659772633&sprefix=python+boo%2Caps%2C666&sr=8-13'\n",
    "\n",
    "# link to get user-agent = https://httpbin.org/get\n",
    "headers = {\"User-Agent\": \"Mozilla/5.0 (Macintosh; Intel Mac OS X 10_15_7) AppleWebKit/605.1.15 (KHTML, like Gecko) Version/15.5 Safari/605.1.15\"}\n",
    "\n",
    "page = requests.get(URL, headers=headers)\n",
    "soup1 = BeautifulSoup(page.content, \"html.parser\")\n",
    "soup2 = BeautifulSoup(soup1.prettify(), \"html.parser\")\n",
    "#print(soup1)\n",
    "#print(soup2)\n",
    "\n",
    "title = soup2.find(id='productTitle').get_text()\n",
    "print(title)\n",
    "\n",
    "price = soup2.find(class_='a-size-base a-color-price a-color-price').get_text()\n",
    "print(price)\n",
    "\n",
    "author = soup2.find('a',class_='a-size-large a-link-normal').get_text()\n",
    "print(author)\n",
    "\n",
    "num_ratings = soup2.find(id='acrCustomerReviewText').get_text()\n",
    "print(num_ratings)"
   ]
  },
  {
   "cell_type": "code",
   "execution_count": 57,
   "id": "b6202c4c-3e44-4ddd-9a5b-812e1a05f8aa",
   "metadata": {},
   "outputs": [],
   "source": [
    "# clean up the data\n",
    "\n",
    "title = title.strip()\n",
    "price = price.strip()[1:]\n",
    "author = author.strip()\n",
    "total_ratings = num_ratings.strip()[0:3]"
   ]
  },
  {
   "cell_type": "code",
   "execution_count": 58,
   "id": "4bcb1a9e-3698-45ca-a21f-44f0d3924203",
   "metadata": {},
   "outputs": [
    {
     "data": {
      "text/plain": [
       "str"
      ]
     },
     "execution_count": 58,
     "metadata": {},
     "output_type": "execute_result"
    }
   ],
   "source": [
    "type(price)"
   ]
  },
  {
   "cell_type": "code",
   "execution_count": 59,
   "id": "67630f7c-ccae-4164-a104-832f9689d993",
   "metadata": {},
   "outputs": [
    {
     "name": "stdout",
     "output_type": "stream",
     "text": [
      "2022-08-06\n"
     ]
    }
   ],
   "source": [
    "# creating timestamp for the output to track when data was collected\n",
    "\n",
    "today = datetime.date.today()\n",
    "print(today)"
   ]
  },
  {
   "cell_type": "code",
   "execution_count": 64,
   "id": "e2431aa1-8e83-417a-b044-fb0442f0f935",
   "metadata": {},
   "outputs": [],
   "source": [
    "# creating csv and writing headers and data into the file\n",
    "\n",
    "header = ['Book_name','Price','Author','Total_ratings','Date_recorded']\n",
    "data = [title, price, author, total_ratings, today]\n",
    "\n",
    "with open(\"AmazonWebScrapper.csv\",'w',newline='',encoding='UTF8') as f:\n",
    "    writer = csv.writer(f)\n",
    "    writer.writerow(header)\n",
    "    writer.writerow(data)"
   ]
  },
  {
   "cell_type": "code",
   "execution_count": 69,
   "id": "14b5a170-b5a5-491c-b9ea-a1046dc77d66",
   "metadata": {},
   "outputs": [
    {
     "data": {
      "text/html": [
       "<div>\n",
       "<style scoped>\n",
       "    .dataframe tbody tr th:only-of-type {\n",
       "        vertical-align: middle;\n",
       "    }\n",
       "\n",
       "    .dataframe tbody tr th {\n",
       "        vertical-align: top;\n",
       "    }\n",
       "\n",
       "    .dataframe thead th {\n",
       "        text-align: right;\n",
       "    }\n",
       "</style>\n",
       "<table border=\"1\" class=\"dataframe\">\n",
       "  <thead>\n",
       "    <tr style=\"text-align: right;\">\n",
       "      <th></th>\n",
       "      <th>Book_name</th>\n",
       "      <th>Price</th>\n",
       "      <th>Author</th>\n",
       "      <th>Total_ratings</th>\n",
       "      <th>Date_recorded</th>\n",
       "    </tr>\n",
       "  </thead>\n",
       "  <tbody>\n",
       "    <tr>\n",
       "      <th>0</th>\n",
       "      <td>Think Python: How to Think Like a Computer Sci...</td>\n",
       "      <td>525.0</td>\n",
       "      <td>Allen Downey</td>\n",
       "      <td>632</td>\n",
       "      <td>2022-08-06</td>\n",
       "    </tr>\n",
       "    <tr>\n",
       "      <th>1</th>\n",
       "      <td>Think Python: How to Think Like a Computer Sci...</td>\n",
       "      <td>525.0</td>\n",
       "      <td>Allen Downey</td>\n",
       "      <td>632</td>\n",
       "      <td>2022-08-06</td>\n",
       "    </tr>\n",
       "  </tbody>\n",
       "</table>\n",
       "</div>"
      ],
      "text/plain": [
       "                                           Book_name  Price        Author  \\\n",
       "0  Think Python: How to Think Like a Computer Sci...  525.0  Allen Downey   \n",
       "1  Think Python: How to Think Like a Computer Sci...  525.0  Allen Downey   \n",
       "\n",
       "   Total_ratings Date_recorded  \n",
       "0            632    2022-08-06  \n",
       "1            632    2022-08-06  "
      ]
     },
     "execution_count": 69,
     "metadata": {},
     "output_type": "execute_result"
    }
   ],
   "source": [
    "# reading the csv file\n",
    "\n",
    "df = pd.read_csv('/Users/gokul/Desktop/AmazonWebScrapper.csv')\n",
    "df"
   ]
  },
  {
   "cell_type": "code",
   "execution_count": 68,
   "id": "1313eff4-2853-41ca-9cee-46e164390582",
   "metadata": {},
   "outputs": [],
   "source": [
    "# run this block for appending data to the csv file, so that we can check the price of the product over time.\n",
    "\n",
    "with open(\"AmazonWebScrapper.csv\",'a+',newline='',encoding='UTF8') as f:\n",
    "    writer = csv.writer(f)\n",
    "    writer.writerow(data)"
   ]
  },
  {
   "cell_type": "code",
   "execution_count": 71,
   "id": "00e9daed-1531-4be0-af57-e63ec19e552d",
   "metadata": {},
   "outputs": [],
   "source": [
    "# combining all the above code into one function \n",
    "\n",
    "def check_price():\n",
    "    \n",
    "    # connect to website\n",
    "    \n",
    "    URL = 'https://www.amazon.in/Think-Python-Like-Computer-Scientist/dp/9352134753/ref=sr_1_13?crid=1EPS6VDTD1XS9&keywords=python+book&qid=1659772633&sprefix=python+boo%2Caps%2C666&sr=8-13'\n",
    "    \n",
    "    # link to get user-agent = https://httpbin.org/get\n",
    "    headers = {\"User-Agent\": \"Mozilla/5.0 (Macintosh; Intel Mac OS X 10_15_7) AppleWebKit/605.1.15 (KHTML, like Gecko) Version/15.5 Safari/605.1.15\"}\n",
    "    page = requests.get(URL, headers=headers)\n",
    "    soup1 = BeautifulSoup(page.content, \"html.parser\")\n",
    "    soup2 = BeautifulSoup(soup1.prettify(), \"html.parser\")\n",
    "    #print(soup1)\n",
    "    #print(soup2)\n",
    "    \n",
    "    title = soup2.find(id='productTitle').get_text()\n",
    "    #print(title)\n",
    "    price = soup2.find(class_='a-size-base a-color-price a-color-price').get_text()\n",
    "    #print(price)\n",
    "    author = soup2.find('a',class_='a-size-large a-link-normal').get_text()\n",
    "    #print(author)\n",
    "    num_ratings = soup2.find(id='acrCustomerReviewText').get_text()\n",
    "    #print(num_ratings)\n",
    "    \n",
    "    # clean up the data\n",
    "    title = title.strip()\n",
    "    price = price.strip()[1:]\n",
    "    author = author.strip()\n",
    "    total_ratings = num_ratings.strip()[0:3]\n",
    "    \n",
    "    # creating timestamp for the output to track when data was collected\n",
    "    today = datetime.date.today()\n",
    "    #print(today)\n",
    "    \n",
    "    header = ['Book_name','Price','Author','Total_ratings','Date_recorded']\n",
    "    data = [title, price, author, total_ratings, today]\n",
    "    with open(\"AmazonWebScrapper.csv\",'a+',newline='',encoding='UTF8') as f:\n",
    "        writer = csv.writer(f)\n",
    "        writer.writerow(data)"
   ]
  },
  {
   "cell_type": "code",
   "execution_count": 73,
   "id": "5bac7105-73d9-4489-84f9-eb230678d940",
   "metadata": {},
   "outputs": [],
   "source": [
    "# run check_price function after set of time and inputs data into the csv file\n",
    "\n",
    "while True:\n",
    "    check_price()\n",
    "    time.sleep(86400) #this is in seconds\n",
    "    \n",
    "# this loops check's the product price for every day and insert the data into the csv file"
   ]
  },
  {
   "cell_type": "code",
   "execution_count": 74,
   "id": "5fafbda4-30df-47dc-984b-8987bbb90b8e",
   "metadata": {},
   "outputs": [
    {
     "data": {
      "text/html": [
       "<div>\n",
       "<style scoped>\n",
       "    .dataframe tbody tr th:only-of-type {\n",
       "        vertical-align: middle;\n",
       "    }\n",
       "\n",
       "    .dataframe tbody tr th {\n",
       "        vertical-align: top;\n",
       "    }\n",
       "\n",
       "    .dataframe thead th {\n",
       "        text-align: right;\n",
       "    }\n",
       "</style>\n",
       "<table border=\"1\" class=\"dataframe\">\n",
       "  <thead>\n",
       "    <tr style=\"text-align: right;\">\n",
       "      <th></th>\n",
       "      <th>Book_name</th>\n",
       "      <th>Price</th>\n",
       "      <th>Author</th>\n",
       "      <th>Total_ratings</th>\n",
       "      <th>Date_recorded</th>\n",
       "    </tr>\n",
       "  </thead>\n",
       "  <tbody>\n",
       "    <tr>\n",
       "      <th>0</th>\n",
       "      <td>Think Python: How to Think Like a Computer Sci...</td>\n",
       "      <td>525.0</td>\n",
       "      <td>Allen Downey</td>\n",
       "      <td>632</td>\n",
       "      <td>2022-08-06</td>\n",
       "    </tr>\n",
       "    <tr>\n",
       "      <th>1</th>\n",
       "      <td>Think Python: How to Think Like a Computer Sci...</td>\n",
       "      <td>525.0</td>\n",
       "      <td>Allen Downey</td>\n",
       "      <td>632</td>\n",
       "      <td>2022-08-06</td>\n",
       "    </tr>\n",
       "    <tr>\n",
       "      <th>2</th>\n",
       "      <td>Think Python: How to Think Like a Computer Sci...</td>\n",
       "      <td>525.0</td>\n",
       "      <td>Allen Downey</td>\n",
       "      <td>632</td>\n",
       "      <td>2022-08-06</td>\n",
       "    </tr>\n",
       "  </tbody>\n",
       "</table>\n",
       "</div>"
      ],
      "text/plain": [
       "                                           Book_name  Price        Author  \\\n",
       "0  Think Python: How to Think Like a Computer Sci...  525.0  Allen Downey   \n",
       "1  Think Python: How to Think Like a Computer Sci...  525.0  Allen Downey   \n",
       "2  Think Python: How to Think Like a Computer Sci...  525.0  Allen Downey   \n",
       "\n",
       "   Total_ratings Date_recorded  \n",
       "0            632    2022-08-06  \n",
       "1            632    2022-08-06  \n",
       "2            632    2022-08-06  "
      ]
     },
     "execution_count": 74,
     "metadata": {},
     "output_type": "execute_result"
    }
   ],
   "source": [
    "df = pd.read_csv('/Users/gokul/Desktop/AmazonWebScrapper.csv')\n",
    "df"
   ]
  }
 ],
 "metadata": {
  "kernelspec": {
   "display_name": "Python 3 (ipykernel)",
   "language": "python",
   "name": "python3"
  },
  "language_info": {
   "codemirror_mode": {
    "name": "ipython",
    "version": 3
   },
   "file_extension": ".py",
   "mimetype": "text/x-python",
   "name": "python",
   "nbconvert_exporter": "python",
   "pygments_lexer": "ipython3",
   "version": "3.9.7"
  }
 },
 "nbformat": 4,
 "nbformat_minor": 5
}
